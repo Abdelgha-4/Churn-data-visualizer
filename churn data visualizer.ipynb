{
 "cells": [
  {
   "cell_type": "code",
   "execution_count": null,
   "id": "52eecc27",
   "metadata": {},
   "outputs": [],
   "source": [
    "import numpy as np\n",
    "import pandas as pd\n",
    "import dtale\n",
    "import dtale.app as dtale_app\n",
    "dtale_app.USE_NGROK = True"
   ]
  },
  {
   "cell_type": "code",
   "execution_count": null,
   "id": "20eada51",
   "metadata": {
    "code_folding": [
     0,
     12
    ]
   },
   "outputs": [],
   "source": [
    "class txt_style:\n",
    "    PURPLE = '\\033[95m'\n",
    "    CYAN = '\\033[96m'\n",
    "    DARKCYAN = '\\033[36m'\n",
    "    BLUE = '\\033[94m'\n",
    "    GREEN = '\\033[92m'\n",
    "    YELLOW = '\\033[93m'\n",
    "    RED = '\\033[91m'\n",
    "    BOLD = '\\033[1m'\n",
    "    UNDERLINE = '\\033[4m'\n",
    "    END = '\\033[0m'\n",
    "\n",
    "def reduce_mem_usage(original_df, conserve=False, inplace=False, report=True, low_card_as_cat=10):\n",
    "    \"\"\" iterate through all the columns of a dataframe and modify the data type\n",
    "        to reduce memory usage.\n",
    "        if conserve : avoid loss of precision by disabling float convertion  \n",
    "        if inplace : don't make a copy, change the passed dataframe\n",
    "        if report : print reduced amount of memory\n",
    "        low_card_as_cat : if a numeric variable has a lower cardinality than this threshold it'll be considered categorical, \n",
    "                          0 means all numeric variables would stay numeric\n",
    "    \"\"\"\n",
    "    # cases of when to backup or copy data\n",
    "    if inplace:\n",
    "        df = original_df\n",
    "        if not conserve : backup = original_df.copy()\n",
    "    else:\n",
    "        df = original_df.copy()\n",
    "        if not conserve : backup = original_df\n",
    "    \n",
    "    start_mem = df.memory_usage().sum() / 1024**2\n",
    "    if report:\n",
    "        print(f'Initial memory usage of dataframe is {start_mem:.2f} MB')\n",
    "    \n",
    "    # set the right dtype for each column based on the range of its values\n",
    "    for col in df.columns:\n",
    "        col_type = df[col].dtype\n",
    "        if col_type != object and df[col].nunique()>low_card_as_cat:\n",
    "            c_min = df[col].min()\n",
    "            c_max = df[col].max()\n",
    "            if str(col_type)[:3] == 'int':\n",
    "                if c_min > np.iinfo(np.int8).min and c_max < np.iinfo(np.int8).max:\n",
    "                    df[col] = df[col].astype(np.int8)\n",
    "                elif c_min > np.iinfo(np.int16).min and c_max < np.iinfo(np.int16).max:\n",
    "                    df[col] = df[col].astype(np.int16)\n",
    "                elif c_min > np.iinfo(np.int32).min and c_max < np.iinfo(np.int32).max:\n",
    "                    df[col] = df[col].astype(np.int32)\n",
    "                elif c_min > np.iinfo(np.int64).min and c_max < np.iinfo(np.int64).max:\n",
    "                    df[col] = df[col].astype(np.int64)\n",
    "            elif not conserve:\n",
    "                if c_min > np.finfo(np.float16).min and c_max < np.finfo(np.float16).max :\n",
    "                    df[col] = df[col].astype(np.float16)\n",
    "                elif c_min > np.finfo(np.float32).min and c_max < np.finfo(np.float32).max:\n",
    "                    df[col] = df[col].astype(np.float32)\n",
    "                else:\n",
    "                    df[col] = df[col].astype(np.float64)\n",
    "        else:\n",
    "            df[col] = df[col].astype('category')\n",
    "\n",
    "    if report:\n",
    "        end_mem = df.memory_usage().sum() / 1024**2\n",
    "        print(f'Memory usage after optimization is: {end_mem:.2f} MB')\n",
    "        print(txt_style.GREEN+txt_style.BOLD+f'Decreased by {100 * (start_mem - end_mem)/start_mem:.1f}%'+txt_style.END)\n",
    "        if conserve :\n",
    "            print(txt_style.BLUE+'All values conserved, 0% loss of information'+txt_style.END)\n",
    "        else:\n",
    "            print('Mean absolute percentage loss of information in float columns :')\n",
    "            print(\n",
    "                100 *\n",
    "                (backup.select_dtypes(include=['float16', 'float32', 'float64']) -\n",
    "                 df.select_dtypes(include=['float16', 'float32'])).sum().abs() /\n",
    "                backup.select_dtypes('float').sum())\n",
    "    return df"
   ]
  },
  {
   "cell_type": "code",
   "execution_count": null,
   "id": "a8c775f4",
   "metadata": {},
   "outputs": [],
   "source": [
    "data_filepath = \"BankChurners.csv\"\n",
    "churn_data = pd.read_csv(data_filepath, index_col='CLIENTNUM', usecols = range(21))\n",
    "reduced_churn_data = reduce_mem_usage(churn_data, conserve=False)"
   ]
  },
  {
   "cell_type": "code",
   "execution_count": null,
   "id": "8ed54d88",
   "metadata": {},
   "outputs": [],
   "source": [
    "d = dtale.show(reduced_churn_data, allow_cell_edits=False)\n",
    "print(\"Click on the link to explore the data and discover new things!\")\n",
    "d.main_url()"
   ]
  }
 ],
 "metadata": {
  "kernelspec": {
   "display_name": "Python 3",
   "language": "python",
   "name": "python3"
  },
  "language_info": {
   "codemirror_mode": {
    "name": "ipython",
    "version": 3
   },
   "file_extension": ".py",
   "mimetype": "text/x-python",
   "name": "python",
   "nbconvert_exporter": "python",
   "pygments_lexer": "ipython3",
   "version": "3.8.11"
  },
  "toc": {
   "base_numbering": 1,
   "nav_menu": {},
   "number_sections": true,
   "sideBar": true,
   "skip_h1_title": false,
   "title_cell": "Table of Contents",
   "title_sidebar": "Contents",
   "toc_cell": false,
   "toc_position": {},
   "toc_section_display": true,
   "toc_window_display": false
  }
 },
 "nbformat": 4,
 "nbformat_minor": 5
}
