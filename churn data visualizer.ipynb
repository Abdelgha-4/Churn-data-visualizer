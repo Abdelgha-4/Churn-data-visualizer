{
 "cells": [
  {
   "cell_type": "code",
   "execution_count": null,
   "id": "52eecc27",
   "metadata": {},
   "outputs": [],
   "source": [
    "import numpy as np\n",
    "import pandas as pd\n",
    "import dtale\n",
    "import dtale.app as dtale_app\n",
    "dtale_app.USE_NGROK = True"
   ]
  },
  {
   "cell_type": "code",
   "execution_count": null,
   "id": "a8c775f4",
   "metadata": {},
   "outputs": [],
   "source": [
    "churn_data = pd.read_csv(\"BankChurners.csv\", index_col='CLIENTNUM', usecols = range(21))"
   ]
  },
  {
   "cell_type": "code",
   "execution_count": null,
   "id": "8ed54d88",
   "metadata": {},
   "outputs": [],
   "source": [
    "d = dtale.show(churn_data, allow_cell_edits=False)\n",
    "print(\"Click on the link to explore the data and discover new things!\")\n",
    "d.main_url()"
   ]
  }
 ],
 "metadata": {
  "kernelspec": {
   "display_name": "Python 3",
   "language": "python",
   "name": "python3"
  },
  "language_info": {
   "codemirror_mode": {
    "name": "ipython",
    "version": 3
   },
   "file_extension": ".py",
   "mimetype": "text/x-python",
   "name": "python",
   "nbconvert_exporter": "python",
   "pygments_lexer": "ipython3",
   "version": "3.8.11"
  },
  "toc": {
   "base_numbering": 1,
   "nav_menu": {},
   "number_sections": true,
   "sideBar": true,
   "skip_h1_title": false,
   "title_cell": "Table of Contents",
   "title_sidebar": "Contents",
   "toc_cell": false,
   "toc_position": {},
   "toc_section_display": true,
   "toc_window_display": false
  }
 },
 "nbformat": 4,
 "nbformat_minor": 5
}
