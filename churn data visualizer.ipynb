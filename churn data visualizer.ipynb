{
 "cells": [
  {
   "cell_type": "code",
   "execution_count": null,
   "id": "5e953353",
   "metadata": {},
   "outputs": [],
   "source": [
    "import dtale\n",
    "import os\n",
    "import pandas as pd\n",
    "import dtale.app as dtale_app\n",
    "from IPython.display import display\n",
    "from IPython.display import IFrame\n",
    "\n",
    "dtale_app.JUPYTER_SERVER_PROXY = True\n",
    "\n",
    "app_root = '{}proxy/'.format(os.environ['JUPYTERHUB_SERVICE_PREFIX'])\n",
    "port = 40000\n",
    "\n",
    "churn_data = pd.read_csv(\"BankChurners.csv\", index_col='CLIENTNUM', usecols = range(21))\n",
    "\n",
    "d = dtale.show(\n",
    "    churn_data,\n",
    "    port=port,\n",
    "    app_root=app_root,\n",
    "    allow_cell_edits=False\n",
    ")\n",
    "\n",
    "# iframe_url = 'https://hub.gke2.mybinder.org{}{}/dtale/main/{}'.format(\n",
    "#     app_root,\n",
    "#     port,\n",
    "#     d._data_id,\n",
    "# )\n",
    "\n",
    "# display(IFrame(iframe_url, width='100%', height=475))\n",
    "\n",
    "print(\"Click on the link to explore the data and discover new things!\")\n",
    "d.main_url()"
   ]
  }
 ],
 "metadata": {
  "kernelspec": {
   "display_name": "Python 3",
   "language": "python",
   "name": "python3"
  },
  "language_info": {
   "codemirror_mode": {
    "name": "ipython",
    "version": 3
   },
   "file_extension": ".py",
   "mimetype": "text/x-python",
   "name": "python",
   "nbconvert_exporter": "python",
   "pygments_lexer": "ipython3",
   "version": "3.8.11"
  },
  "toc": {
   "base_numbering": 1,
   "nav_menu": {},
   "number_sections": true,
   "sideBar": true,
   "skip_h1_title": false,
   "title_cell": "Table of Contents",
   "title_sidebar": "Contents",
   "toc_cell": false,
   "toc_position": {},
   "toc_section_display": true,
   "toc_window_display": false
  }
 },
 "nbformat": 4,
 "nbformat_minor": 5
}
